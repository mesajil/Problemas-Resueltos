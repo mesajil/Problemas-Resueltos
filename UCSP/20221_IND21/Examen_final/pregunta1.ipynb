{
  "nbformat": 4,
  "nbformat_minor": 0,
  "metadata": {
    "colab": {
      "name": "pregunta1_Saraza_Derrick.ipynb",
      "provenance": []
    },
    "kernelspec": {
      "name": "python3",
      "display_name": "Python 3"
    },
    "language_info": {
      "name": "python"
    }
  },
  "cells": [
    {
      "cell_type": "code",
      "execution_count": 1,
      "metadata": {
        "colab": {
          "base_uri": "https://localhost:8080/"
        },
        "id": "hI8doMnUNIUf",
        "outputId": "1a851073-b674-4703-83d9-4ae7dc3d98b1"
      },
      "outputs": [
        {
          "output_type": "stream",
          "name": "stdout",
          "text": [
            "Ingrese nota: 12\n",
            "Ingrese nota: 25\n",
            "Ingrese nota: 13\n",
            "Ingrese nota: 26\n",
            "Ingrese nota: 5\n",
            "[26, 25, 13, 12, 5]\n"
          ]
        }
      ],
      "source": [
        "\n",
        "lista = []\n",
        "\n",
        "for i in range(5):\n",
        "  nota = int(input(\"Ingrese nota: \"))\n",
        "  if (lista == [] or nota <= lista[-1]):\n",
        "    lista.append(nota)\n",
        "  else:\n",
        "    for j in range(len(lista)):\n",
        "      if nota >= lista[j]:\n",
        "        lista.insert(j, nota)\n",
        "        break\n",
        "\n",
        "print (lista)\n",
        "\n"
      ]
    },
    {
      "cell_type": "code",
      "source": [
        ""
      ],
      "metadata": {
        "id": "laV6Pw3HNgH5"
      },
      "execution_count": null,
      "outputs": []
    }
  ]
}