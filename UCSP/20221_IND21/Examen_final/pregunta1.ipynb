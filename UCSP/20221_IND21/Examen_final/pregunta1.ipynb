{
  "nbformat": 4,
  "nbformat_minor": 0,
  "metadata": {
    "colab": {
      "name": "pregunta1_Saraza_Derrick.ipynb",
      "provenance": []
    },
    "kernelspec": {
      "name": "python3",
      "display_name": "Python 3"
    },
    "language_info": {
      "name": "python"
    }
  },
  "cells": [
    {
      "cell_type": "code",
      "execution_count": 2,
      "metadata": {
        "colab": {
          "base_uri": "https://localhost:8080/"
        },
        "id": "hI8doMnUNIUf",
        "outputId": "06ce79c0-3f66-431d-81fc-a241f51e3893"
      },
      "outputs": [
        {
          "output_type": "stream",
          "name": "stdout",
          "text": [
            "Ingrese nota: 12\n",
            "Ingrese nota: 25\n",
            "Ingrese nota: 13\n",
            "Ingrese nota: 26\n",
            "Ingrese nota: 5\n",
            "[26, 25, 13, 12, 5]\n"
          ]
        }
      ],
      "source": [
        "\n",
        "derrick = []\n",
        "\n",
        "for i in range(5):\n",
        "  saraza = int(input(\"Ingrese nota: \"))\n",
        "  if (derrick == [] or saraza <= derrick[-1]):\n",
        "    derrick.append(saraza)\n",
        "  else:\n",
        "    for j in range(len(derrick)):\n",
        "      if saraza >= derrick[j]:\n",
        "        derrick.insert(j, saraza)\n",
        "        break\n",
        "\n",
        "print (derrick)\n",
        "\n"
      ]
    },
    {
      "cell_type": "code",
      "source": [
        ""
      ],
      "metadata": {
        "id": "laV6Pw3HNgH5"
      },
      "execution_count": null,
      "outputs": []
    }
  ]
}