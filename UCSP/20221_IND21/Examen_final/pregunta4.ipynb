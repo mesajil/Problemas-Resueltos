{
  "nbformat": 4,
  "nbformat_minor": 0,
  "metadata": {
    "colab": {
      "name": "pregunta4_Saraza_Derrick.ipynb",
      "provenance": []
    },
    "kernelspec": {
      "name": "python3",
      "display_name": "Python 3"
    },
    "language_info": {
      "name": "python"
    }
  },
  "cells": [
    {
      "cell_type": "code",
      "execution_count": 8,
      "metadata": {
        "colab": {
          "base_uri": "https://localhost:8080/"
        },
        "id": "vFHnPsB7W3SC",
        "outputId": "427c8f31-547c-4e72-9d16-265145ff84ff"
      },
      "outputs": [
        {
          "output_type": "stream",
          "name": "stdout",
          "text": [
            "Titular:  Jorge\n",
            "Cantidad:  70\n",
            "Titular:  Pablo\n",
            "Cantidad:  55.5\n"
          ]
        }
      ],
      "source": [
        "class Cuenta:\n",
        "  def __init__ (self, titular, cantidad = 0):\n",
        "    self.titular = titular\n",
        "    self.cantidad = cantidad\n",
        "  \n",
        "  def set_titular (self, titular):\n",
        "    self.titular = titular\n",
        "\n",
        "  def set_cantidad (self, cantidad):\n",
        "    self.cantidad = cantidad\n",
        "\n",
        "  def get_titular (self):\n",
        "    return self.titular\n",
        "\n",
        "  def get_cantidad (self):\n",
        "    return self.cantidad\n",
        "\n",
        "  def ingresar (self, cantidad):\n",
        "    if cantidad > 0:\n",
        "      self.cantidad += cantidad\n",
        "\n",
        "  def retirar (self, cantidad):\n",
        "    if cantidad > 0:\n",
        "      self.cantidad -= cantidad\n",
        "\n",
        "  def mostrar(self):\n",
        "    print (\"Titular: \", self.titular)\n",
        "    print (\"Cantidad: \", self.cantidad)\n",
        "\n",
        "c1 = Cuenta(\"Jorge\")\n",
        "c1.set_cantidad (100)\n",
        "c1.ingresar(50)\n",
        "c1.retirar(80)\n",
        "c1.mostrar()\n",
        "\n",
        "c2 = Cuenta (\"Pablo\", 55.5)\n",
        "c2.mostrar()  \n"
      ]
    },
    {
      "cell_type": "code",
      "source": [
        ""
      ],
      "metadata": {
        "id": "YnRvk8hvYYVD"
      },
      "execution_count": null,
      "outputs": []
    }
  ]
}