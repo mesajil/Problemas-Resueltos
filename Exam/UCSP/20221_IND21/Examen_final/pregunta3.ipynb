{
  "nbformat": 4,
  "nbformat_minor": 0,
  "metadata": {
    "colab": {
      "name": "pregunta3_Saraza_Derrick.ipynb",
      "provenance": []
    },
    "kernelspec": {
      "name": "python3",
      "display_name": "Python 3"
    },
    "language_info": {
      "name": "python"
    }
  },
  "cells": [
    {
      "cell_type": "code",
      "execution_count": 8,
      "metadata": {
        "colab": {
          "base_uri": "https://localhost:8080/"
        },
        "id": "YDZH_NILVhhP",
        "outputId": "7434b1d5-16c3-4a7b-e21f-f544f4ece557"
      },
      "outputs": [
        {
          "output_type": "stream",
          "name": "stdout",
          "text": [
            "Ingrese la cantidad de valores de la lista:  5\n",
            "Nuevo elemento: 9999\n",
            "Nuevo elemento: 0\n",
            "Nuevo elemento: adasdas\n",
            "Nuevo elemento: 000\n",
            "Nuevo elemento: 0\n",
            "la lista ingresada es:  ['9999', '0', 'adasdas', '000', '0']\n",
            "la cantidad de ceros encontrados en la lista es:  2\n"
          ]
        }
      ],
      "source": [
        "def llenar_matriz (lista1, tamanio):\n",
        "  for _ in range(tamanio):\n",
        "    lista1.append(input(\"Nuevo elemento: \"))\n",
        "  return lista1\n",
        "\n",
        "def ceros(lista2):\n",
        "  cantidad = 0\n",
        "  for e in lista2:\n",
        "    if e == '0':\n",
        "      cantidad += 1\n",
        "  return cantidad\n",
        "\n",
        "lista0 =[]\n",
        "\n",
        "cantidad = int(input(\"Ingrese la cantidad de valores de la lista:  \"  ))\n",
        "\n",
        "lista= llenar_matriz (lista0, cantidad)\n",
        "\n",
        "print( \"la lista ingresada es: \",lista )\n",
        "\n",
        "print( \"la cantidad de ceros encontrados en la lista es: \",  ceros(lista))"
      ]
    },
    {
      "cell_type": "code",
      "source": [
        "1"
      ],
      "metadata": {
        "id": "JI_c3d3gV-bB"
      },
      "execution_count": null,
      "outputs": []
    }
  ]
}