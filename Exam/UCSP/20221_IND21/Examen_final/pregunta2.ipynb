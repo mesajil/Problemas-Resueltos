{
  "nbformat": 4,
  "nbformat_minor": 0,
  "metadata": {
    "colab": {
      "name": "pregunta2_Saraza_Derrick.ipynb",
      "provenance": [],
      "collapsed_sections": []
    },
    "kernelspec": {
      "name": "python3",
      "display_name": "Python 3"
    },
    "language_info": {
      "name": "python"
    }
  },
  "cells": [
    {
      "cell_type": "code",
      "execution_count": 8,
      "metadata": {
        "colab": {
          "base_uri": "https://localhost:8080/"
        },
        "id": "O-3PgKUlQzv0",
        "outputId": "30c6dd0b-34c1-4f2d-9370-146ad794dd53"
      },
      "outputs": [
        {
          "output_type": "stream",
          "name": "stdout",
          "text": [
            "[[1, 2, 3], [4, 5, 6]] [[-1, 0], [0, 1], [1, 1]]\n",
            "[[2, 5], [2, 11]]\n"
          ]
        }
      ],
      "source": [
        "a = [[1, 2, 3],\n",
        "     [4, 5, 6]]\n",
        "\n",
        "b = [[-1, 0],\n",
        "     [0, 1],\n",
        "     [1,1]]\n",
        "\n",
        "c = [[0 for _ in b[0]] for _ in a]\n",
        "for i in range(len(c)):\n",
        "  for j in range(len(c[0])):\n",
        "    for k in range(len(b)):\n",
        "      c[i][j] += a[i][k] * b[k][j]\n",
        "\n",
        "\n",
        "print (a,b)\n",
        "print (c)\n"
      ]
    },
    {
      "cell_type": "code",
      "source": [
        ""
      ],
      "metadata": {
        "id": "bH1VimCWRkpI"
      },
      "execution_count": null,
      "outputs": []
    }
  ]
}