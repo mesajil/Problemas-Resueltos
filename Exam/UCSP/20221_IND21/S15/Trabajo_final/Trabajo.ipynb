{
  "nbformat": 4,
  "nbformat_minor": 0,
  "metadata": {
    "colab": {
      "name": "Trabajo.ipynb",
      "provenance": [],
      "collapsed_sections": []
    },
    "kernelspec": {
      "name": "python3",
      "display_name": "Python 3"
    },
    "language_info": {
      "name": "python"
    }
  },
  "cells": [
    {
      "cell_type": "code",
      "execution_count": null,
      "metadata": {
        "colab": {
          "base_uri": "https://localhost:8080/"
        },
        "id": "rJ1W9PlQwrrv",
        "outputId": "3d99e9c6-8615-48cd-8c94-a45162370fb8"
      },
      "outputs": [
        {
          "output_type": "stream",
          "name": "stdout",
          "text": [
            "Harry Potter\n",
            "\n",
            "Erase una vez ...\n",
            "Dumbledore dijo que ...\n",
            "Entonces Lord Voldemort empezó lo que sería ...\n",
            "Por fin, Harry logró recuperar la piedra que ...\n",
            "\n"
          ]
        }
      ],
      "source": [
        "\"\"\"1. Crear clase Libro, crear el método \"agregar_parrafo\" y\n",
        "utilizar el método __str__ para imprimir su contenido\"\"\"\n",
        "class Libro():\n",
        "  def __init__ (self, titulo):\n",
        "    self.titulo = titulo\n",
        "    self.contenido = []\n",
        "  \n",
        "  def agregar_parrafo (self, parrafo):\n",
        "    self.contenido.append(parrafo)\n",
        "  \n",
        "  def agregar_muchos_parrafos (self, lista):\n",
        "    self.contenido.extend(lista)\n",
        "\n",
        "  def __str__ (self):\n",
        "    imprimir = self.titulo + \"\\n\\n\"\n",
        "    for p in self.contenido:\n",
        "      imprimir += p + \"\\n\"\n",
        "    return imprimir\n",
        "\n",
        "mi_libro = Libro(\"Harry Potter\")\n",
        "mi_libro.agregar_parrafo(\"Erase una vez ...\")\n",
        "mi_libro.agregar_parrafo(\"Dumbledore dijo que ...\")\n",
        "mi_libro.agregar_muchos_parrafos([\"Entonces Lord Voldemort empezó lo que sería ...\", \"Por fin, Harry logró recuperar la piedra que ...\"])\n",
        "print(mi_libro)"
      ]
    },
    {
      "cell_type": "code",
      "source": [
        "\"\"\"2. Calcular numero de vocales en un parrafo y sus respectivas cantidades por cada vocal\"\"\"\n",
        "def numero_vocales(cadena):\n",
        "  vocales = [[0, c] for c in \"aeiou\"]\n",
        "  for c in cadena:\n",
        "    for p in vocales:\n",
        "      if c.lower() == p[1]:\n",
        "        p[0] += 1\n",
        "  return [(n, c) for n,c in vocales]\n",
        "\n",
        "def aplicar_funcion (f, lista):\n",
        "  return [(f(e), e) for e in lista]\n",
        "\n",
        "\n",
        "contenido = [\"Erase una vez ...\", \"Dumbledore dijo que ...\"]\n",
        "\n",
        "for row in aplicar_funcion(numero_vocales, contenido):\n",
        "  print (row)"
      ],
      "metadata": {
        "colab": {
          "base_uri": "https://localhost:8080/"
        },
        "id": "dBZxIDDey6kb",
        "outputId": "31dc25a2-21bd-4822-8d45-6e6647e7b888"
      },
      "execution_count": null,
      "outputs": [
        {
          "output_type": "stream",
          "name": "stdout",
          "text": [
            "([(2, 'a'), (3, 'e'), (0, 'i'), (0, 'o'), (1, 'u')], 'Erase una vez ...')\n",
            "([(0, 'a'), (3, 'e'), (1, 'i'), (2, 'o'), (2, 'u')], 'Dumbledore dijo que ...')\n"
          ]
        }
      ]
    },
    {
      "cell_type": "code",
      "source": [
        "\"\"\"3. Calcular el factorial de un número y guardarlo en tupla (factorial(num), num)\"\"\"\n",
        "import random\n",
        "\n",
        "def factorial(n):\n",
        "\tf=1\n",
        "\tfor i in range(1,n+1):\n",
        "\t\tf=f*i\n",
        "\treturn (f, n)\n",
        "\n",
        "def crea_matriz (n, m):\n",
        "\treturn [[factorial(random.randint(1,10)) for _ in range(m)] for _ in range(n)]\n",
        "\n",
        "matriz = crea_matriz (3,3)\n",
        "for row in matriz:\n",
        "\tprint (row)"
      ],
      "metadata": {
        "colab": {
          "base_uri": "https://localhost:8080/"
        },
        "id": "nHtK6fQIFsrp",
        "outputId": "e1b54ed3-7135-4fa7-bdd1-017abda948df"
      },
      "execution_count": null,
      "outputs": [
        {
          "output_type": "stream",
          "name": "stdout",
          "text": [
            "[(3628800, 10), (3628800, 10), (120, 5)]\n",
            "[(5040, 7), (120, 5), (3628800, 10)]\n",
            "[(1, 1), (2, 2), (720, 6)]\n"
          ]
        }
      ]
    },
    {
      "cell_type": "code",
      "source": [
        "\"\"\"4. Crear conjunto de palabras a partir de una oración\"\"\"\n",
        "\n",
        "def crear_conjunto_de_palabras (oracion):\n",
        "  conjunto = set()\n",
        "  p = oracion.find(\" \")\n",
        "  while p > -1:\n",
        "    conjunto.add(oracion[:p])\n",
        "    oracion = oracion[p+1:]\n",
        "    p = oracion.find(\" \")\n",
        "  conjunto.add(oracion)\n",
        "  return conjunto\n",
        "\n",
        "def crear_diccionario (f, lista):\n",
        "  return {e: f(e) for e in lista} \n",
        "\n",
        "n = 3\n",
        "contenido = []\n",
        "for i in range(n):\n",
        "  contenido.append(input(f\"Ingrese oración {i + 1}: \"))\n",
        "\n",
        "diccionario = crear_diccionario(crear_conjunto_de_palabras, contenido)\n",
        "for row in diccionario:\n",
        "  print(row + \": \" + str(diccionario[row]))\n"
      ],
      "metadata": {
        "colab": {
          "base_uri": "https://localhost:8080/"
        },
        "id": "Lh2fwaXEBIe7",
        "outputId": "edf869d7-4821-4d19-ddd7-ffbe1e3d3889"
      },
      "execution_count": null,
      "outputs": [
        {
          "output_type": "stream",
          "name": "stdout",
          "text": [
            "Ingrese oración 1: Hola mundo\n",
            "Ingrese oración 2: ABC\n",
            "Ingrese oración 3: 1 2 3\n",
            "Hola mundo: {'Hola', 'mundo'}\n",
            "ABC: {'ABC'}\n",
            "1 2 3: {'1', '3', '2'}\n"
          ]
        }
      ]
    },
    {
      "cell_type": "code",
      "source": [
        "\"\"\"5. Calcule el numero de palabras en un parrafo\"\"\"\n",
        "def calcular_numero_de_palabras_por_cada_elemento (lista):\n",
        "  salida = []\n",
        "  for e in lista:\n",
        "    spaces = 0\n",
        "    for c in e:\n",
        "      if c == \" \":\n",
        "        spaces += 1\n",
        "    salida.append((spaces + 1, e))\n",
        "  return salida\n",
        "\n",
        "def multiplicar (a,b):\n",
        "  return a*b\n",
        "\n",
        "n = 3\n",
        "contenido = []\n",
        "for i in range(n):\n",
        "  contenido.append(input(f\"Ingrese oración {i + 1}: \"))\n",
        "\n",
        "for cantidad, cadena in calcular_numero_de_palabras_por_cada_elemento(contenido):\n",
        "  print(f\"{cantidad} x {cadena} = {multiplicar(cantidad, cadena)}\")"
      ],
      "metadata": {
        "colab": {
          "base_uri": "https://localhost:8080/"
        },
        "id": "vKRtAI5bCLdo",
        "outputId": "530970c6-b207-450b-da29-3b3c96aff2dc"
      },
      "execution_count": null,
      "outputs": [
        {
          "output_type": "stream",
          "name": "stdout",
          "text": [
            "Ingrese oración 1: Hola mundo\n",
            "Ingrese oración 2: ABC\n",
            "Ingrese oración 3: 1 2 3\n",
            "2 x Hola mundo = Hola mundoHola mundo\n",
            "1 x ABC = ABC\n",
            "3 x 1 2 3 = 1 2 31 2 31 2 3\n"
          ]
        }
      ]
    },
    {
      "cell_type": "code",
      "source": [
        ""
      ],
      "metadata": {
        "id": "Chxs5LiQEukH"
      },
      "execution_count": null,
      "outputs": []
    }
  ]
}